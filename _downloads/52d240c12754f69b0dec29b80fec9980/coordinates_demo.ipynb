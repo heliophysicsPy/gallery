{
  "cells": [
    {
      "cell_type": "code",
      "execution_count": null,
      "metadata": {
        "collapsed": false
      },
      "outputs": [],
      "source": [
        "%matplotlib inline"
      ]
    },
    {
      "cell_type": "markdown",
      "metadata": {},
      "source": [
        "\n# Astropy Coordinates and SunPy Demo\n\n\nWritten by Steven Christe and presented at the Heliopython meeting on\nNovember 13-15, 2018. The purpose of this demo is to show off the AstroPy coordinates\nframework as well as show how SunPy extends it to add solar coordinate systems. \n"
      ]
    },
    {
      "cell_type": "markdown",
      "metadata": {},
      "source": [
        "The astropy coordinates package provides classes for representing a variety\nof celestial/spatial coordinates and their velocity components, as well as\ntools for converting between common coordinate systems in a uniform way.\n\n"
      ]
    },
    {
      "cell_type": "code",
      "execution_count": null,
      "metadata": {
        "collapsed": false
      },
      "outputs": [],
      "source": [
        "from astropy import units as u\nfrom astropy.coordinates import SkyCoord, AltAz\nfrom astropy.time import Time"
      ]
    },
    {
      "cell_type": "markdown",
      "metadata": {},
      "source": [
        "SkyCoord\nAs an example of creating a SkyCoord to represent an ICRS (Right ascension\n[RA], Declination [Dec]) sky position:\n\n"
      ]
    },
    {
      "cell_type": "code",
      "execution_count": null,
      "metadata": {
        "collapsed": false
      },
      "outputs": [],
      "source": [
        "c = SkyCoord(ra=10.625*u.degree, dec=41.2*u.degree, frame='icrs')"
      ]
    },
    {
      "cell_type": "markdown",
      "metadata": {},
      "source": [
        "It can also handle arrays (many ways to instantiate a SkyCoord)\n\n"
      ]
    },
    {
      "cell_type": "code",
      "execution_count": null,
      "metadata": {
        "collapsed": false
      },
      "outputs": [],
      "source": [
        "c = SkyCoord(ra=[10, 11, 12, 13]*u.degree, dec=[41, -5, 42, 0]*u.degree)"
      ]
    },
    {
      "cell_type": "markdown",
      "metadata": {},
      "source": [
        "SkyCoord can also handle 3D positions, just add a distance\n\n"
      ]
    },
    {
      "cell_type": "code",
      "execution_count": null,
      "metadata": {
        "collapsed": false
      },
      "outputs": [],
      "source": [
        "c = SkyCoord(ra=10.68458*u.degree, dec=41.26917*u.degree, distance=770*u.kpc)"
      ]
    },
    {
      "cell_type": "markdown",
      "metadata": {},
      "source": [
        "So now cartesian coordinates are available\n\n"
      ]
    },
    {
      "cell_type": "code",
      "execution_count": null,
      "metadata": {
        "collapsed": false
      },
      "outputs": [],
      "source": [
        "print('r = ({0}, {1}, {2})'.format(c.cartesian.x, c.cartesian.y, c.cartesian.z))"
      ]
    },
    {
      "cell_type": "markdown",
      "metadata": {},
      "source": [
        "Positions of objects\nCan also register positions of objects or do object lookups\n\n"
      ]
    },
    {
      "cell_type": "code",
      "execution_count": null,
      "metadata": {
        "collapsed": false
      },
      "outputs": [],
      "source": [
        "crab = SkyCoord.from_name(\"Crab\")\nprint(crab)"
      ]
    },
    {
      "cell_type": "markdown",
      "metadata": {},
      "source": [
        "let's consider now consider a position in the sky from a specific location\non the Earth.\n\n"
      ]
    },
    {
      "cell_type": "code",
      "execution_count": null,
      "metadata": {
        "collapsed": false
      },
      "outputs": [],
      "source": [
        "from astropy.coordinates import EarthLocation"
      ]
    },
    {
      "cell_type": "markdown",
      "metadata": {},
      "source": [
        "Many positions are already availabe such as that of the VLA.\n\n"
      ]
    },
    {
      "cell_type": "code",
      "execution_count": null,
      "metadata": {
        "collapsed": false
      },
      "outputs": [],
      "source": [
        "vla_coord = EarthLocation.of_site('vla')\nprint(vla_coord)"
      ]
    },
    {
      "cell_type": "markdown",
      "metadata": {},
      "source": [
        "Using a position on the Earth we can calculate Alt/Az, since dkist is missing\nfrom the library, let's add it as a position\n\n"
      ]
    },
    {
      "cell_type": "code",
      "execution_count": null,
      "metadata": {
        "collapsed": false
      },
      "outputs": [],
      "source": [
        "dkist = EarthLocation(lat=20.70818*u.deg, lon=-156.2569*u.deg, height=3084*u.m)\nutcoffset = -10 * u.hour\nmidnight = Time('2018-11-14 00:00:00') - utcoffset"
      ]
    },
    {
      "cell_type": "markdown",
      "metadata": {},
      "source": [
        "We can now get the position of the Crab in the sky as observed from DKIST\n\n"
      ]
    },
    {
      "cell_type": "code",
      "execution_count": null,
      "metadata": {
        "collapsed": false
      },
      "outputs": [],
      "source": [
        "crab_altaz = crab.transform_to(AltAz(obstime=midnight,location=dkist))\nprint(crab_altaz)\nprint(\"Crab's Altitude = {0.alt:}\".format(crab_altaz))"
      ]
    },
    {
      "cell_type": "markdown",
      "metadata": {},
      "source": [
        "Let's now move on to showing how SunPy extends AstroPy coordinates by\nadding solar coordinate systems.\n\n"
      ]
    },
    {
      "cell_type": "code",
      "execution_count": null,
      "metadata": {
        "collapsed": false
      },
      "outputs": [],
      "source": [
        "from sunpy.coordinates import frames, get_sunearth_distance"
      ]
    },
    {
      "cell_type": "markdown",
      "metadata": {},
      "source": [
        "SunPy defines HeliographicStonyhurst, HeliographicCarrington, Heliocentric,\nand Helioprojective. Let's define the center of the Sun\n\n"
      ]
    },
    {
      "cell_type": "code",
      "execution_count": null,
      "metadata": {
        "collapsed": false
      },
      "outputs": [],
      "source": [
        "sun = SkyCoord(0 * u.arcsec, 0 * u.arcsec, obstime=midnight, frame=frames.Helioprojective)"
      ]
    },
    {
      "cell_type": "markdown",
      "metadata": {},
      "source": [
        "The position in the sky from the DKIST site is\n\n"
      ]
    },
    {
      "cell_type": "code",
      "execution_count": null,
      "metadata": {
        "collapsed": false
      },
      "outputs": [],
      "source": [
        "sun_altaz = sun.transform_to(AltAz(obstime=midnight,location=dkist))\nprint('Altitude is {0} and Azimuth is {1}'.format(sun_altaz.T.alt, sun_altaz.T.az))"
      ]
    },
    {
      "cell_type": "markdown",
      "metadata": {},
      "source": [
        "As expected the Sun is below the horizon! Let's consider noon now.\n\n"
      ]
    },
    {
      "cell_type": "code",
      "execution_count": null,
      "metadata": {
        "collapsed": false
      },
      "outputs": [],
      "source": [
        "noon = Time('2018-11-14 12:00:00') - utcoffset\nsun_altaz = sun.transform_to(AltAz(obstime=noon,location=dkist))\nprint('Altitude is {0} and Azimuth is {1}'.format(sun_altaz.T.alt, sun_altaz.T.az))"
      ]
    },
    {
      "cell_type": "markdown",
      "metadata": {},
      "source": [
        "Next let\u2019s check this calculation by converting it back to helioprojective.\nWe should get our original input which was the center of the Sun.\nTo go from Altitude/Azimuth to Helioprojective, you will need the distance\nto the Sun. solar distance. Define distance with SunPy\u2019s almanac.\n\n"
      ]
    },
    {
      "cell_type": "code",
      "execution_count": null,
      "metadata": {
        "collapsed": false
      },
      "outputs": [],
      "source": [
        "distance = get_sunearth_distance(noon)\nb = SkyCoord(az=sun_altaz.T.az, alt=sun_altaz.T.alt, distance=distance, frame=AltAz(obstime=noon,location=dkist))\nsun_helioproj = b.transform_to(frames.Helioprojective)\nprint('The helioprojective point is {0}, {1}'.format(sun_helioproj.T.Tx, sun_helioproj.T.Ty))"
      ]
    },
    {
      "cell_type": "markdown",
      "metadata": {},
      "source": [
        "Let's now show off how we can convert between Solar coordinates Coordinates.\nTransform to HeliographicStonyhurst\n\n"
      ]
    },
    {
      "cell_type": "code",
      "execution_count": null,
      "metadata": {
        "collapsed": false
      },
      "outputs": [],
      "source": [
        "sun.transform_to(frames.HeliographicStonyhurst)"
      ]
    },
    {
      "cell_type": "markdown",
      "metadata": {},
      "source": [
        "Transform to Heliocentric\n\n"
      ]
    },
    {
      "cell_type": "code",
      "execution_count": null,
      "metadata": {
        "collapsed": false
      },
      "outputs": [],
      "source": [
        "sun.transform_to(frames.Heliocentric)"
      ]
    },
    {
      "cell_type": "markdown",
      "metadata": {},
      "source": [
        "Transform to HeliographicCarrington\n\n"
      ]
    },
    {
      "cell_type": "code",
      "execution_count": null,
      "metadata": {
        "collapsed": false
      },
      "outputs": [],
      "source": [
        "sun.transform_to(frames.HeliographicCarrington)"
      ]
    }
  ],
  "metadata": {
    "kernelspec": {
      "display_name": "Python 3",
      "language": "python",
      "name": "python3"
    },
    "language_info": {
      "codemirror_mode": {
        "name": "ipython",
        "version": 3
      },
      "file_extension": ".py",
      "mimetype": "text/x-python",
      "name": "python",
      "nbconvert_exporter": "python",
      "pygments_lexer": "ipython3",
      "version": "3.7.3"
    }
  },
  "nbformat": 4,
  "nbformat_minor": 0
}