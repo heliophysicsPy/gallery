{
  "cells": [
    {
      "cell_type": "code",
      "execution_count": null,
      "metadata": {
        "collapsed": false
      },
      "outputs": [],
      "source": [
        "%matplotlib inline"
      ]
    },
    {
      "cell_type": "markdown",
      "metadata": {},
      "source": [
        "\n# pySPEDAS Demo\n\nWritten by Nick Hatzigeorgiu and Shawn Polson. \n\nThe purpose of this demo is to demonstrate some of the capabilities of the pySPEDAS package.\n"
      ]
    },
    {
      "cell_type": "markdown",
      "metadata": {},
      "source": [
        "The pySPEDAS package contains functions for downloading data from NASA missions \nand tools for data analysis and data plotting. It works together with the \npytplot and the cdflib packages.\n\npySPEDAS is a python implementation of the SPEDAS software which is written \nin the IDL programming language. For more information on SPEDAS, \nsee: http://spedas.org/wiki/\n\n"
      ]
    },
    {
      "cell_type": "code",
      "execution_count": null,
      "metadata": {
        "collapsed": false
      },
      "outputs": [],
      "source": [
        "import pyspedas\nimport pytplot\nfrom pyspedas import clean_spikes, version\nfrom pytplot import del_data, get_data, store_data, tplot_options, tplot_names, tplot\nimport os\nimport pickle"
      ]
    },
    {
      "cell_type": "markdown",
      "metadata": {},
      "source": [
        "## Load and plot THEMIS data\n\n"
      ]
    },
    {
      "cell_type": "markdown",
      "metadata": {},
      "source": [
        "Note: pySPEDAS uses an environment variable SPEDAS_DATA_DIR to determine the \nlocal path for saving data files. SPEDAS_DATA_DIR acts as a root data directory \nfor all missions, but mission-specific data directories \n(e.g., MMS_DATA_DIR for MMS, THM_DATA_DIR for THEMIS) can also be set, \nand these will override SPEDAS_DATA_DIR.\n\nWe can find the version of the installed pyspedas package using `version()`.  \n\n"
      ]
    },
    {
      "cell_type": "code",
      "execution_count": null,
      "metadata": {
        "collapsed": false
      },
      "outputs": [],
      "source": [
        "version()"
      ]
    },
    {
      "cell_type": "markdown",
      "metadata": {},
      "source": [
        "Delete any existing pytplot variables.\n\n"
      ]
    },
    {
      "cell_type": "code",
      "execution_count": null,
      "metadata": {
        "collapsed": false
      },
      "outputs": [],
      "source": [
        "del_data()"
      ]
    },
    {
      "cell_type": "markdown",
      "metadata": {},
      "source": [
        "Define a time range. Here, we pick a time range that spans one day.\n\n"
      ]
    },
    {
      "cell_type": "code",
      "execution_count": null,
      "metadata": {
        "collapsed": false
      },
      "outputs": [],
      "source": [
        "time_range = ['2015-10-16', '2015-10-17']"
      ]
    },
    {
      "cell_type": "markdown",
      "metadata": {},
      "source": [
        "You can load data into tplot variables by calling `pyspedas.mission.instrument()`. \nE.g., to load and plot our one day of THEMIS FGM data for probe 'd':\n\n(This following function downloads all the necessary files, loads data, \nand time-clips data to the specified time range.)\n\n"
      ]
    },
    {
      "cell_type": "code",
      "execution_count": null,
      "metadata": {
        "collapsed": false
      },
      "outputs": [],
      "source": [
        "thm_fgm = pyspedas.themis.fgm(trange=time_range, probe='d')"
      ]
    },
    {
      "cell_type": "markdown",
      "metadata": {},
      "source": [
        "Mission-specific information and examples can be found in the READMEs of each \nmission directory in the pySPEDAS GitHub repo. E.g., THEMIS: \nhttps://github.com/spedas/pyspedas/tree/master/pyspedas/themis\n\nGet data from pytplot object into python variables. \nThis is useful when we want to work on the data using standard python libraries.\n\n"
      ]
    },
    {
      "cell_type": "code",
      "execution_count": null,
      "metadata": {
        "collapsed": false
      },
      "outputs": [],
      "source": [
        "all_data = get_data(\"thd_fgs_gse\")\ntime = all_data[0]\ndata = all_data[1]"
      ]
    },
    {
      "cell_type": "markdown",
      "metadata": {},
      "source": [
        "After working with the data, we can store a new pytplot variable. \nWe can store any data in the pytplot object. \n\n"
      ]
    },
    {
      "cell_type": "code",
      "execution_count": null,
      "metadata": {
        "collapsed": false
      },
      "outputs": [],
      "source": [
        "store_data(\"new_thd_fgs_gse\", data={'x': time, 'y': data})"
      ]
    },
    {
      "cell_type": "markdown",
      "metadata": {},
      "source": [
        "We plot the data using the pyqtgraph library (the default). \nAnother option is to plot using the bokeh library.\n\n"
      ]
    },
    {
      "cell_type": "code",
      "execution_count": null,
      "metadata": {
        "collapsed": false
      },
      "outputs": [],
      "source": [
        "pytplot.options('thd_fgs_gse', 'color', 'red')\npytplot.options('thd_fgs_gsm', 'color', 'blue')\ntplot(['thd_fgs_gse', 'thd_fgs_gsm'])"
      ]
    },
    {
      "cell_type": "markdown",
      "metadata": {},
      "source": [
        "## Load and plot MMS data\n\n"
      ]
    },
    {
      "cell_type": "markdown",
      "metadata": {},
      "source": [
        "Delete any existing pytplot variables, and define a time range.  \n\n"
      ]
    },
    {
      "cell_type": "code",
      "execution_count": null,
      "metadata": {
        "collapsed": false
      },
      "outputs": [],
      "source": [
        "del_data()\ntime_range = ['2015-10-16/13:05:30', '2015-10-16/13:07:30']"
      ]
    },
    {
      "cell_type": "markdown",
      "metadata": {},
      "source": [
        "Load and plot two minutes of MMS burst mode FGM data:\n\nFirst we make an `mms_auth_info` pickle file with blank credentials \nin the home directory\u2014this skips a prompt that would ask for an\nSDC username (a prompt that you could just submit blank).\n\n"
      ]
    },
    {
      "cell_type": "code",
      "execution_count": null,
      "metadata": {
        "collapsed": false
      },
      "outputs": [],
      "source": [
        "with open(os.sep.join([os.path.expanduser('~'), 'mms_auth_info.pkl']), 'wb') as auth_file:\n    pickle.dump({'user': '', 'passwd': ''}, auth_file)\n\nmms_fgm = pyspedas.mms.fgm(trange=['2015-10-16/13:05:30', '2015-10-16/13:07:30'], data_rate='brst')"
      ]
    },
    {
      "cell_type": "markdown",
      "metadata": {},
      "source": [
        "The names of the loaded tplot variables are printed. You can print the names of \nall currently-loaded tplot variables at any time using `pyspedas.tnames()`:\n\n"
      ]
    },
    {
      "cell_type": "code",
      "execution_count": null,
      "metadata": {
        "collapsed": false
      },
      "outputs": [],
      "source": [
        "pyspedas.tnames()"
      ]
    },
    {
      "cell_type": "markdown",
      "metadata": {},
      "source": [
        "pySPEDAS has a number of helpful analysis routines under `pyspedas.analysis`. \nE.g., if we want to clean spikes from the data:\n\n"
      ]
    },
    {
      "cell_type": "code",
      "execution_count": null,
      "metadata": {
        "collapsed": false
      },
      "outputs": [],
      "source": [
        "clean_spikes(['mms1_fgm_b_gse_brst_l2', 'mms1_fgm_b_gsm_brst_l2'])"
      ]
    },
    {
      "cell_type": "markdown",
      "metadata": {},
      "source": [
        "Plot the (despiked) MMS data. \nUse the bokeh library \u2014 the plots will appear in the web browser.\n\nNote how we use pytplot options to set the line colors. See the full list of \noptions at: https://pytplot.readthedocs.io/en/latest/_modules/pytplot/options.html\n\n"
      ]
    },
    {
      "cell_type": "code",
      "execution_count": null,
      "metadata": {
        "collapsed": false
      },
      "outputs": [],
      "source": [
        "pytplot.options('mms1_fgm_b_gse_brst_l2-despike', 'color', 'red')\npytplot.options('mms1_fgm_b_gsm_brst_l2-despike', 'color', 'blue')\ntplot(['mms1_fgm_b_gse_brst_l2-despike', 'mms1_fgm_b_gsm_brst_l2-despike'], bokeh=True)"
      ]
    },
    {
      "cell_type": "markdown",
      "metadata": {},
      "source": [
        "Note: The HTML web page for this example may be missing the plots but this is a \nlimitation of the platform for this particular gallery \u2014 if you run the \npython code locally, the plots will appear. \n\n"
      ]
    }
  ],
  "metadata": {
    "kernelspec": {
      "display_name": "Python 3",
      "language": "python",
      "name": "python3"
    },
    "language_info": {
      "codemirror_mode": {
        "name": "ipython",
        "version": 3
      },
      "file_extension": ".py",
      "mimetype": "text/x-python",
      "name": "python",
      "nbconvert_exporter": "python",
      "pygments_lexer": "ipython3",
      "version": "3.9.6"
    }
  },
  "nbformat": 4,
  "nbformat_minor": 0
}