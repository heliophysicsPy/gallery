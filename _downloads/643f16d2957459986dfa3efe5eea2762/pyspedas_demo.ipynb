{
  "cells": [
    {
      "cell_type": "code",
      "execution_count": null,
      "metadata": {
        "collapsed": false
      },
      "outputs": [],
      "source": [
        "%matplotlib inline"
      ]
    },
    {
      "cell_type": "markdown",
      "metadata": {},
      "source": [
        "\n# pyspedas Demo\n\n\nWritten by Nick Hatzigeorgiu. \n\nThe purpose of this demo is to demonstrate some of the capabilities of the pyspedas package.\n"
      ]
    },
    {
      "cell_type": "markdown",
      "metadata": {},
      "source": [
        "The pyspedas package contains functions for downloading data from NASA missions \nand tools for data analysis and data plotting. It works together with \nthe pytplot and the cdflib packages.\n\nPyspedas is a python implementation of the SPEDAS software which is written \nin the IDL programming language. For more information on SPEDAS, \nsee: http://spedas.org/wiki/\n\n"
      ]
    },
    {
      "cell_type": "code",
      "execution_count": null,
      "metadata": {
        "collapsed": false
      },
      "outputs": [],
      "source": [
        "from pyspedas import load_data, gmag_list, subtract_average, version\nfrom pytplot import del_data, get_data, store_data, ylim, tplot, tplot_options, tplot_names"
      ]
    },
    {
      "cell_type": "markdown",
      "metadata": {},
      "source": [
        "Load and plot THEMIS data\n###################################################################################\n\n"
      ]
    },
    {
      "cell_type": "markdown",
      "metadata": {},
      "source": [
        "Pyspedas uses a preferences file (spd_prefs_txt.py) which contains the variables\nthat determine the local path for saving cdf files. The user can change this\npath, if he wants to. We can find the location of the pyspedas preferences file\nand the version of the installed pyspedas package, using the function version(). \n\n"
      ]
    },
    {
      "cell_type": "code",
      "execution_count": null,
      "metadata": {
        "collapsed": false
      },
      "outputs": [],
      "source": [
        "version()"
      ]
    },
    {
      "cell_type": "markdown",
      "metadata": {},
      "source": [
        "Delete any existing pytplot variables\n\n"
      ]
    },
    {
      "cell_type": "code",
      "execution_count": null,
      "metadata": {
        "collapsed": false
      },
      "outputs": [],
      "source": [
        "del_data()"
      ]
    },
    {
      "cell_type": "markdown",
      "metadata": {},
      "source": [
        "Define a time range. Here, we pick a time range that spans one and a half day.\n\n"
      ]
    },
    {
      "cell_type": "code",
      "execution_count": null,
      "metadata": {
        "collapsed": false
      },
      "outputs": [],
      "source": [
        "time_range = ['2015-12-31 00:00:00', '2016-01-01 12:00:00']"
      ]
    },
    {
      "cell_type": "markdown",
      "metadata": {},
      "source": [
        "Download THEMIS state data and store it into the pytplot object.\nThis following function downloads all the necessary files, loads data, \nand time-clips data to the specified time range. \n\n"
      ]
    },
    {
      "cell_type": "code",
      "execution_count": null,
      "metadata": {
        "collapsed": false
      },
      "outputs": [],
      "source": [
        "load_data('themis', time_range, ['tha'], 'state', 'l1')"
      ]
    },
    {
      "cell_type": "markdown",
      "metadata": {},
      "source": [
        "Get data from pytplot object into python variables. \nThis is useful when we want to work on the data using standard python libraries.\n\n"
      ]
    },
    {
      "cell_type": "code",
      "execution_count": null,
      "metadata": {
        "collapsed": false
      },
      "outputs": [],
      "source": [
        "alldata = get_data(\"tha_vel\")\ntime = alldata[0]\ndata = alldata[1]"
      ]
    },
    {
      "cell_type": "markdown",
      "metadata": {},
      "source": [
        "After working with the data, we can store a new pytplot variable. \nWe can store any data in the pytplot object. \n\n"
      ]
    },
    {
      "cell_type": "code",
      "execution_count": null,
      "metadata": {
        "collapsed": false
      },
      "outputs": [],
      "source": [
        "store_data(\"tha_new_vel\", data={'x': time, 'y': data})"
      ]
    },
    {
      "cell_type": "markdown",
      "metadata": {},
      "source": [
        "Preparing for the plots, we define the y-axis limits.\n\n"
      ]
    },
    {
      "cell_type": "code",
      "execution_count": null,
      "metadata": {
        "collapsed": false
      },
      "outputs": [],
      "source": [
        "ylim('tha_pos', -23000.0, 81000.0)\nylim('tha_new_vel', -8.0, 12.0)"
      ]
    },
    {
      "cell_type": "markdown",
      "metadata": {},
      "source": [
        "We plot the position and the velocity using the pyqtgraph library (the default). \nAnother option is to plot using the bokeh library.\n\n"
      ]
    },
    {
      "cell_type": "code",
      "execution_count": null,
      "metadata": {
        "collapsed": false
      },
      "outputs": [],
      "source": [
        "tplot([\"tha_pos\", \"tha_new_vel\"])"
      ]
    },
    {
      "cell_type": "markdown",
      "metadata": {},
      "source": [
        "Load and plot GMAG data\n###################################################################################\n\n"
      ]
    },
    {
      "cell_type": "markdown",
      "metadata": {},
      "source": [
        "Delete any existing pytplot variables, and define a time range.  \n\n"
      ]
    },
    {
      "cell_type": "code",
      "execution_count": null,
      "metadata": {
        "collapsed": false
      },
      "outputs": [],
      "source": [
        "del_data()\ntime_range = ['2015-12-31 00:00:00', '2015-12-31 23:59:59']"
      ]
    },
    {
      "cell_type": "markdown",
      "metadata": {},
      "source": [
        "GMAG stations are organized in groups. For a list of all available GMAG groups \nand all GMAG stations, see: http://themis.ssl.berkeley.edu/gmag/gmag_list.php\n\nGet a list of the GMAG stations that belong to the EPO group.\n\n"
      ]
    },
    {
      "cell_type": "code",
      "execution_count": null,
      "metadata": {
        "collapsed": false
      },
      "outputs": [],
      "source": [
        "sites = gmag_list(group='epo')"
      ]
    },
    {
      "cell_type": "markdown",
      "metadata": {},
      "source": [
        "Download cdf files for all EPO GMAG stations and load data into pytplot variables.\n\nSome GMAG stations may not have any data files for the specified time interval. \nIn that case, we will get an error message that the remote file does not exist\nfor that GMAG station.  \n\n"
      ]
    },
    {
      "cell_type": "code",
      "execution_count": null,
      "metadata": {
        "collapsed": false
      },
      "outputs": [],
      "source": [
        "load_data('gmag', time_range, sites, '', '')"
      ]
    },
    {
      "cell_type": "markdown",
      "metadata": {},
      "source": [
        "Print the names of the loaded GMAG sites. \n\n"
      ]
    },
    {
      "cell_type": "code",
      "execution_count": null,
      "metadata": {
        "collapsed": false
      },
      "outputs": [],
      "source": [
        "sites_loaded = tplot_names()"
      ]
    },
    {
      "cell_type": "markdown",
      "metadata": {},
      "source": [
        "Subtract the average values for these sites.\n\n"
      ]
    },
    {
      "cell_type": "code",
      "execution_count": null,
      "metadata": {
        "collapsed": false
      },
      "outputs": [],
      "source": [
        "subtract_average(sites_loaded, '')"
      ]
    },
    {
      "cell_type": "markdown",
      "metadata": {},
      "source": [
        "Download AE index data.\n\n"
      ]
    },
    {
      "cell_type": "code",
      "execution_count": null,
      "metadata": {
        "collapsed": false
      },
      "outputs": [],
      "source": [
        "load_data('gmag', time_range, ['idx'], '', '')"
      ]
    },
    {
      "cell_type": "markdown",
      "metadata": {},
      "source": [
        "Get a list of all the loaded GMAG sites plus the AE index data. \n\n"
      ]
    },
    {
      "cell_type": "code",
      "execution_count": null,
      "metadata": {
        "collapsed": false
      },
      "outputs": [],
      "source": [
        "sites_loaded = tplot_names()"
      ]
    },
    {
      "cell_type": "markdown",
      "metadata": {},
      "source": [
        "Plot GMAG and AE index data.\nUse the bokeh library - the plots will appear in the web browser.\n\n"
      ]
    },
    {
      "cell_type": "code",
      "execution_count": null,
      "metadata": {
        "collapsed": false
      },
      "outputs": [],
      "source": [
        "tplot_options('title', 'EPO GMAG 2015-12-31')\ntplot(sites_loaded, bokeh=True)"
      ]
    },
    {
      "cell_type": "markdown",
      "metadata": {},
      "source": [
        "Note: The HTML web page for this example may be missing the plots but this is a \nlimitation of the platform for this particular gallery - \nif you run the python code locally, the plots will appear. \n\n"
      ]
    }
  ],
  "metadata": {
    "kernelspec": {
      "display_name": "Python 3",
      "language": "python",
      "name": "python3"
    },
    "language_info": {
      "codemirror_mode": {
        "name": "ipython",
        "version": 3
      },
      "file_extension": ".py",
      "mimetype": "text/x-python",
      "name": "python",
      "nbconvert_exporter": "python",
      "pygments_lexer": "ipython3",
      "version": "3.7.4"
    }
  },
  "nbformat": 4,
  "nbformat_minor": 0
}