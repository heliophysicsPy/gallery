{
  "cells": [
    {
      "cell_type": "code",
      "execution_count": null,
      "metadata": {
        "collapsed": false
      },
      "outputs": [],
      "source": [
        "%matplotlib inline"
      ]
    },
    {
      "cell_type": "markdown",
      "metadata": {},
      "source": [
        "\n# Downloading and Compressing a FITS file using SunPy, aiapy, and Astropy\n\nWritten by Matt Wentzel-Long. The purpose of this demo is to demonstrate:\n1) SunPy's ability to retrieve a Level 1 AIA data, 2) convert this to Level\n1.5 AIA data using aiapy, 3) deconvolve the FITS file using aiapy, and 4)\ndemonstrate the compression ability of Astropy when saving the file.\n"
      ]
    },
    {
      "cell_type": "markdown",
      "metadata": {},
      "source": [
        "First import the packages\n\n"
      ]
    },
    {
      "cell_type": "code",
      "execution_count": null,
      "metadata": {
        "collapsed": false
      },
      "outputs": [],
      "source": [
        "import astropy\nimport astropy.units as u\nfrom astropy.io.fits import CompImageHDU\n\nfrom sunpy.net import Fido, attrs as a\nimport sunpy.map\n\nimport aiapy.psf as psf_\nfrom aiapy.calibrate import register, update_pointing\n\nimport os"
      ]
    },
    {
      "cell_type": "markdown",
      "metadata": {},
      "source": [
        "Use the SunPy tool `Fido <https://docs.sunpy.org/en/v3.0.1/guide/acquiring_data/fido.html>`_ to find and download level 1 AIA data. \n\n"
      ]
    },
    {
      "cell_type": "code",
      "execution_count": null,
      "metadata": {
        "collapsed": false
      },
      "outputs": [],
      "source": [
        "q = Fido.search(a.Time('2011-06-07T06:52:00', '2011-06-07T06:52:10'),\n                a.Instrument('AIA'),\n                a.Wavelength(wavemin=171*u.angstrom, wavemax=171*u.angstrom))\naia_map = sunpy.map.Map(Fido.fetch(q))"
      ]
    },
    {
      "cell_type": "markdown",
      "metadata": {},
      "source": [
        "Convert to level 1.5 AIA data. See the `registering and aligning level 1 data <https://aiapy.readthedocs.io/en/latest/generated/gallery/prepping_level_1_data.html>`_\nexample in aiapy documentation for more details. \n\n"
      ]
    },
    {
      "cell_type": "code",
      "execution_count": null,
      "metadata": {
        "collapsed": false
      },
      "outputs": [],
      "source": [
        "m_updated_pointing = update_pointing(aia_map)\nm_registered = register(m_updated_pointing)\nm_normalized = sunpy.map.Map(\n    m_registered.data/m_registered.exposure_time.to(u.s).value,\n    m_registered.meta)"
      ]
    },
    {
      "cell_type": "markdown",
      "metadata": {},
      "source": [
        "Compute the point-spread function (PSF) and use it to deconvolve the image.\nWarning: the PSF computation can take over 16 minutes on a CPU. If you have\nan NVIDIA GPU and CuPy installed, then PSF will automatically use it.\nSee the `PSF documentation <https://aiapy.readthedocs.io/en/latest/api/aiapy.psf.psf.html>`_ for details.\n\n"
      ]
    },
    {
      "cell_type": "code",
      "execution_count": null,
      "metadata": {
        "collapsed": false
      },
      "outputs": [],
      "source": [
        "psf = psf_.psf(m_normalized.wavelength)\nmap_deconvolved = psf_.deconvolve(m_normalized, psf=psf)"
      ]
    },
    {
      "cell_type": "markdown",
      "metadata": {},
      "source": [
        "Save the deconvolved image as a FITS file without compression using SunPy.\nNote: this resulted in a 128 MB file while testing.\n\n"
      ]
    },
    {
      "cell_type": "code",
      "execution_count": null,
      "metadata": {
        "collapsed": false
      },
      "outputs": [],
      "source": [
        "map_deconvolved.save('aia_map_deconv.fits')\nprint(os.path.getsize('aia_map_deconv.fits'))\n\n# This time pass SunPy the `CompImagHDU <https://docs.astropy.org/en/stable/io/fits/api/images.html#compimagehdu>`_ compression routine from Astropy.\nsunpy.io.fits.write('aia_map_deconv_comp.fits', map_deconvolved.data,\n                    map_deconvolved.fits_header, hdu_type=CompImageHDU)\nprint(os.path.getsize('aia_map_deconv_comp.fits'))"
      ]
    }
  ],
  "metadata": {
    "kernelspec": {
      "display_name": "Python 3",
      "language": "python",
      "name": "python3"
    },
    "language_info": {
      "codemirror_mode": {
        "name": "ipython",
        "version": 3
      },
      "file_extension": ".py",
      "mimetype": "text/x-python",
      "name": "python",
      "nbconvert_exporter": "python",
      "pygments_lexer": "ipython3",
      "version": "3.9.6"
    }
  },
  "nbformat": 4,
  "nbformat_minor": 0
}