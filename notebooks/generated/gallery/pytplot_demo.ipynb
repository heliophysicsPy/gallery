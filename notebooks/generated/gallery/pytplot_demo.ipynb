{
  "cells": [
    {
      "cell_type": "code",
      "execution_count": null,
      "metadata": {
        "collapsed": false
      },
      "outputs": [],
      "source": [
        "%matplotlib inline"
      ]
    },
    {
      "cell_type": "markdown",
      "metadata": {},
      "source": [
        "\n# PyTplot Demo\n\nWritten by Julie Barnum and Elysia Lucas. \nThe purpose of this demo is to show off some of the capabilities of PyTplot.\n"
      ]
    },
    {
      "cell_type": "code",
      "execution_count": null,
      "metadata": {
        "collapsed": false
      },
      "outputs": [],
      "source": [
        "import urllib\n\nimport pytplot"
      ]
    },
    {
      "cell_type": "markdown",
      "metadata": {},
      "source": [
        "## Loading data into memory\nThe pytplot package comes with a sample IDL tplot save file which will be used for the following tutorial,\nlocated in PyTplot Github (https://github.com/MAVENSDC/PyTplot) under pytplot/pytplot/sampledata.\nThis file was generated in IDL, and therefore can be loaded into tplot if you wish to compare the\nIDL and python versions.\nDownload the test file from the PyTplot Github acct\n\n"
      ]
    },
    {
      "cell_type": "code",
      "execution_count": null,
      "metadata": {
        "collapsed": false
      },
      "outputs": [],
      "source": [
        "url = 'https://github.com/MAVENSDC/PyTplot/raw/master/docs/test_data.tplot'\n\nurllib.request.urlretrieve(url, \"./test_data.tplot\")"
      ]
    },
    {
      "cell_type": "markdown",
      "metadata": {},
      "source": [
        "To load this data into pytplot, type in the following command:\n\n"
      ]
    },
    {
      "cell_type": "code",
      "execution_count": null,
      "metadata": {
        "collapsed": false
      },
      "outputs": [],
      "source": [
        "pytplot.tplot_restore(r'test_data.tplot')\nprint(pytplot.tplot_names())"
      ]
    },
    {
      "cell_type": "markdown",
      "metadata": {},
      "source": [
        "## Storing data\npytplot works by interacting with global variables (called tplot variables) that contain information necessary for\ncreating one panel (or even one portion of a panel) of a plot, that can be accessed from the main level or\nwithin any Python routine. Before anything can be plotted, tplot variables must be loaded into memory.\nSingle line Plot: to store data to plot a single line, the 'y' data will be a single list of data\nthat will correspond to the points that will make up the line.\nMulti-line Plot: to store data to plot a multi-line plot, the 'y' data will be a list of lists.\nEach column of the \"matrix\" created is the data for one line. So if you had a list with four lists in it\nand three elements in each list [[1,2,3],[4,5,6],[7,8,9],[10,11,12]] three lines with four data points each\nwill be plotted.\nSpectrogram Plot: to store data to plot for a spectrogram, 'v' data will be a list of bins for the data,\nand the 'y' data will be a matrix of values with dimensions of the length of \"x\" time the length of \"v\"\nMap Plot: to store data to plot for a latitude/longitude plot, 'x' will contain a list of latitudes\nand a list of longitudes, for example 'x':[[15,30,45],[30,60,90]], and the 'y' data will be a list of values\nthat correspond to those latitude/longitude points\nCombining Two Plots: store_data('new_name', ['old_name1', 'old_name2'])\nto combine multiple existing tplot variables ('old_name1' and 'old_name2') into one new tplot variable\n('new_name'). 'new_name' will have all data from the existing tplot variables entered in one new tplot variable.\n\n"
      ]
    },
    {
      "cell_type": "markdown",
      "metadata": {},
      "source": [
        "## Pytplot variables\npytplot.tplot_names() will print the numbers and names of the tplot variables currently in memory.\nWhen using any routines that require the name of the tplot variable, the user can use either\nthe name of the variable or the corresponding number.\n\n"
      ]
    },
    {
      "cell_type": "code",
      "execution_count": null,
      "metadata": {
        "collapsed": false
      },
      "outputs": [],
      "source": [
        "pytplot.tplot_names()"
      ]
    },
    {
      "cell_type": "markdown",
      "metadata": {},
      "source": [
        "## Options\npytplot.options('tplot_var', 'option', 'option_value') can be used to change plotting options\ncorresponding to specific tplot variables. All options currently implemented are described in\nthe pytplot documentation, but here are some examples to get you started.\n\n"
      ]
    },
    {
      "cell_type": "code",
      "execution_count": null,
      "metadata": {
        "collapsed": false
      },
      "outputs": [],
      "source": [
        "# Line Thickness\npytplot.options('swia_vel', 'thick', 4)\n# Y-axis Label\npytplot.options('swia_vel', 'ytitle', 'speed (km/s)')\n# Vertical Plot Bounds\npytplot.options('SEP_1_ION', 'yrange', [5, 5000])\n# Panel Size\npytplot.options(['mag', 'swia_den', 'swia_vel'], 'panel_size', 0.5)"
      ]
    },
    {
      "cell_type": "markdown",
      "metadata": {},
      "source": [
        "## Tplot Options\npytplot.tplot_options('option', 'option_value') can be used to change plotting options for the tplot routine.\nThese control options affect all panels in a plot.\n\n"
      ]
    },
    {
      "cell_type": "code",
      "execution_count": null,
      "metadata": {
        "collapsed": false
      },
      "outputs": [],
      "source": [
        "# Title\npytplot.tplot_options('title', 'All Plots')\n# Window Size\npytplot.tplot_options('wsize', [800, 800])\n\n# Adding a region of interest (ROI)\n# pytplot will add a ROI (indicated by two vertical red lines, with grey shading in between)\n# to all plot via specifying the 'roi' option\npytplot.tplot_options('roi', ['2016-06-20 11:12:24', '2016-06-20 14:12:00'])\n\n# Another option available in tplot_options is to specify the number of seconds with consecutive nan\n# values allowed before no interpolation should occur\npytplot.tplot_options('data_gap', 80)"
      ]
    },
    {
      "cell_type": "markdown",
      "metadata": {},
      "source": [
        "## Displaying data using tplot\nSingle Panel Plot\n\n"
      ]
    },
    {
      "cell_type": "code",
      "execution_count": null,
      "metadata": {
        "collapsed": false
      },
      "outputs": [],
      "source": [
        "pytplot.tplot('swia_vel')  # or, pytplot.tplot(6)\n\n# Multiple Panel Plot\npytplot.tplot(['swia_counts', 'swia_vel', 'mag'])  # or, pytplot.tplot([4,6,7])"
      ]
    },
    {
      "cell_type": "markdown",
      "metadata": {},
      "source": [
        "## Interacting with Data Plots\nThere are several ways to interact with the data plots. There is command line interaction\nthat follows the same pattern of functions IDL utilizes. Pytplot additionally has interactivity\nbuilt into the viewing window in the form of \"tools\".\n\n"
      ]
    },
    {
      "cell_type": "code",
      "execution_count": null,
      "metadata": {
        "collapsed": false
      },
      "outputs": [],
      "source": [
        "# Moving forward and backward in time\n# The Pan tool allows the user to click and drag the mouse on the plot to move along the x- or y-axis.\n\n# Zooming in and out\n# The Box Zoom tool allows the user to click and drag the mouse on the plot to specify\n# their desired x-axis range.\n\n# Show data points\n# The Hover Tool displays the data of a given point when the user hovers their mouse over the line.\n\n# Add crosshairs to plot window\n# The Crosshairs Tool displays a set of crosshairs that follow the location of the mouse on the plot.\n# Crosshairs can be modified to be not displayed...\npytplot.tplot_options('crosshair', False)\npytplot.tplot('swia_counts')\n\n# and crosshair names can be modified.\npytplot.tplot_options('crosshair', True)  # Just re-adding the crosshairs\npytplot.options('swia_counts', 'crosshair_x', 'XXX')\npytplot.options('swia_counts', 'crosshair_y', 'YYY')\npytplot.options('swia_counts', 'crosshair_z', 'ZZZ')\npytplot.tplot('swia_counts')\n\n# Adding timebars\n# To place a vertical line at a specific time on all panels:\n# pytplot.timebar('2016-06-20 01:15:32', thick=3, color='green') will add a vertical black line to all plots\n# at the time entered. Further settings related to this routine are described in the pytplot documentation.\npytplot.timebar('2016-06-20 01:15:32', thick=3, color='green')"
      ]
    },
    {
      "cell_type": "markdown",
      "metadata": {},
      "source": [
        "## Interacting with spectrogram plots\npytplot also has the ability to interact directly with spectrograms.\nIf you supply the interactive=True keyword to a pytplot.tplot command,\na plot will appear next to the spectrogram that reads out \"slices\" of the plot when you hover the mouse over it.\nAdditionally, you can set options in pytplot to include 'static_tavg', 'static', and 't_average',\nwhich creates a separate plot with the average over a specified time period,\ncreates a separate plot with a single specified time period,\nand specifies a time period (in seconds, based on the mouse's current location)\nover which time should be averaged for the window which pops up when 'interactive=true' is specified, respectively.\nYou can also log axes in both the spectrogram plots ('xlog' and 'zlog' options),\nand the interactive plots ('xlog_interactive' and 'ylog_interactive' options).\n\n"
      ]
    },
    {
      "cell_type": "code",
      "execution_count": null,
      "metadata": {
        "collapsed": false
      },
      "outputs": [],
      "source": [
        "pytplot.options('swia_counts', 'ylog', 1)  # setting to 0 would make the y-axis linear\npytplot.options('swia_counts', 'zlog', 1)  # setting ot 0 would make the z-axis linear\npytplot.options('swia_counts', 'xlog_interactive', True)  # Setting to False would make the x-axis linear\npytplot.options('swia_counts', 'ylog_interactive', True)  # Setting to False would make the y-axis linear\npytplot.options('swia_counts', 'static_tavg', ['2016-06-20 12:00:00', '2016-06-20 13:00:00'])\npytplot.options('swia_counts', 'static', '2016-06-20 01:00:57')\npytplot.options('swia_counts', 't_average', 1200)\npytplot.tplot('swia_counts')"
      ]
    },
    {
      "cell_type": "markdown",
      "metadata": {},
      "source": [
        "## Saving output\npytplot plots have the ability to be saved via 'Save PNG' option from the plot window, or you can specify\nthat you want to save a plot ahead of time via the 'save_png' option\n(e.g., pytplot.tplot('swia_counts', save_png = '/path/to/png/PNG.png')\n\n"
      ]
    },
    {
      "cell_type": "markdown",
      "metadata": {},
      "source": [
        "## Displaying in bokeh\npytplot allows you to use bokeh for visualizing data (bokeh is a Python library that allows interactive plots\nto be visualized via a web browser window), via the 'bokeh' option\n(e.g., pytplot.tplot('swia_counts', bokeh=True)\n\n"
      ]
    }
  ],
  "metadata": {
    "kernelspec": {
      "display_name": "Python 3",
      "language": "python",
      "name": "python3"
    },
    "language_info": {
      "codemirror_mode": {
        "name": "ipython",
        "version": 3
      },
      "file_extension": ".py",
      "mimetype": "text/x-python",
      "name": "python",
      "nbconvert_exporter": "python",
      "pygments_lexer": "ipython3",
      "version": "3.9.6"
    }
  },
  "nbformat": 4,
  "nbformat_minor": 0
}