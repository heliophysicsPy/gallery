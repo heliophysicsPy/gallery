{
  "cells": [
    {
      "cell_type": "code",
      "execution_count": null,
      "metadata": {
        "collapsed": false
      },
      "outputs": [],
      "source": [
        "%matplotlib inline"
      ]
    },
    {
      "cell_type": "markdown",
      "metadata": {},
      "source": [
        "\n================================\nQuantities, Units, and Constants\n================================\n\nThe purpose of this demo is to demonstrate the capabilities of astropy\n`~astropy.units.Unit`, `~astropy.units.Quantity`, and `~astropy.units.Constant`.\n"
      ]
    },
    {
      "cell_type": "markdown",
      "metadata": {},
      "source": [
        "The astropy `~astropy.units.Quantity` object\nhandles defining, converting between, and performing arithmetic\nwith physical quantities, such as meters, seconds, Hz, etc.\n\n"
      ]
    },
    {
      "cell_type": "code",
      "execution_count": null,
      "metadata": {
        "collapsed": false
      },
      "outputs": [],
      "source": [
        "from astropy import units as u\nimport numpy as np"
      ]
    },
    {
      "cell_type": "markdown",
      "metadata": {},
      "source": [
        "You can define a `~astropy.units.Quantity`\n(a number with a unit) in a number of different ways.\n\n"
      ]
    },
    {
      "cell_type": "code",
      "execution_count": null,
      "metadata": {
        "collapsed": false
      },
      "outputs": [],
      "source": [
        "42.0 * u.meter\n[1., 2., 3.] * u.s\nnp.arange(10) * u.Hz"
      ]
    },
    {
      "cell_type": "markdown",
      "metadata": {},
      "source": [
        "These objects work as you would expect with most Python operators or numpy\nfunctions\n\n"
      ]
    },
    {
      "cell_type": "code",
      "execution_count": null,
      "metadata": {
        "collapsed": false
      },
      "outputs": [],
      "source": [
        "np.power(2 * u.s, 3)\n(2 * u.s) ** 2"
      ]
    },
    {
      "cell_type": "markdown",
      "metadata": {},
      "source": [
        "If needed you can get the value as well as the unit\n\n"
      ]
    },
    {
      "cell_type": "code",
      "execution_count": null,
      "metadata": {
        "collapsed": false
      },
      "outputs": [],
      "source": [
        "q = 42.0 * u.meter\nprint(\"The value is {0} and the unit is {1}\".format(q.value, q.unit))"
      ]
    },
    {
      "cell_type": "markdown",
      "metadata": {},
      "source": [
        "Using the `~astropy.units.Quantity.to` function we can easily converted to\nanother unit.\n\n"
      ]
    },
    {
      "cell_type": "code",
      "execution_count": null,
      "metadata": {
        "collapsed": false
      },
      "outputs": [],
      "source": [
        "print(q.to('parsec'))"
      ]
    },
    {
      "cell_type": "markdown",
      "metadata": {},
      "source": [
        "and imperial units as also supported\n\n"
      ]
    },
    {
      "cell_type": "code",
      "execution_count": null,
      "metadata": {
        "collapsed": false
      },
      "outputs": [],
      "source": [
        "from astropy.units import imperial\nprint(q.to(imperial.mile))"
      ]
    },
    {
      "cell_type": "markdown",
      "metadata": {},
      "source": [
        "Units that \u201ccancel out\u201d become a special unit called the \u201cdimensionless unit\u201d:\n\n"
      ]
    },
    {
      "cell_type": "code",
      "execution_count": null,
      "metadata": {
        "collapsed": false
      },
      "outputs": [],
      "source": [
        "u.m / u.m"
      ]
    },
    {
      "cell_type": "markdown",
      "metadata": {},
      "source": [
        "More complex conversions are also supported using\n`~astropy.units.equivalencies`.\nFor example, we can convert the GOES wavelength range to Hz or keV easily using\nthe `~astropy.units.equivalencies.spectral`.\n\n"
      ]
    },
    {
      "cell_type": "code",
      "execution_count": null,
      "metadata": {
        "collapsed": false
      },
      "outputs": [],
      "source": [
        "print(([0.5, 4.0] * u.angstrom).to('Hz', u.spectral()))\n\nprint(([0.5, 4.0] * u.angstrom).to('keV', u.spectral()))"
      ]
    },
    {
      "cell_type": "markdown",
      "metadata": {},
      "source": [
        "Astropy provides a number of reference constants\n\n"
      ]
    },
    {
      "cell_type": "code",
      "execution_count": null,
      "metadata": {
        "collapsed": false
      },
      "outputs": [],
      "source": [
        "from astropy import constants as astropy_const"
      ]
    },
    {
      "cell_type": "markdown",
      "metadata": {},
      "source": [
        "SunPy also provides a number of relevant solar reference constants.\n\n"
      ]
    },
    {
      "cell_type": "code",
      "execution_count": null,
      "metadata": {
        "collapsed": false
      },
      "outputs": [],
      "source": [
        "from sunpy.sun import constants as sunpy_const"
      ]
    },
    {
      "cell_type": "markdown",
      "metadata": {},
      "source": [
        "`~astropy.units.Constant` are simply quantities but they also provide an uncertainty\nand a reference\n\n"
      ]
    },
    {
      "cell_type": "code",
      "execution_count": null,
      "metadata": {
        "collapsed": false
      },
      "outputs": [],
      "source": [
        "M_earth = astropy_const.M_earth\nprint(\"The mass of the Earth is {0} +/- {1} {2} [ref {3}].\".format(M_earth.value, M_earth.uncertainty, M_earth.unit, M_earth.reference))"
      ]
    },
    {
      "cell_type": "markdown",
      "metadata": {},
      "source": [
        "The light travel time in minutes from the Sun to the Earth can be calculated\n\n"
      ]
    },
    {
      "cell_type": "code",
      "execution_count": null,
      "metadata": {
        "collapsed": false
      },
      "outputs": [],
      "source": [
        "print((sunpy_const.au / astropy_const.c).to('min'))"
      ]
    },
    {
      "cell_type": "markdown",
      "metadata": {},
      "source": [
        "Let's define a function to calculate the plasma beta, with quantities we\ndon't have to worry about much beyond getting the equation correct\n\n"
      ]
    },
    {
      "cell_type": "code",
      "execution_count": null,
      "metadata": {
        "collapsed": false
      },
      "outputs": [],
      "source": [
        "def plasma_beta(n, T, B):\n    return (2 * n * astropy_const.k_B * T) / (B ** 2 / (2 * astropy_const.mu0))"
      ]
    },
    {
      "cell_type": "markdown",
      "metadata": {},
      "source": [
        "The plasma beta for the solar corona using appropriate parameters is given\nby the following. The decompose function works to simplify the units.\n\n"
      ]
    },
    {
      "cell_type": "code",
      "execution_count": null,
      "metadata": {
        "collapsed": false
      },
      "outputs": [],
      "source": [
        "print(plasma_beta(1e9 * u.cm**-3, 3e6 * u.Kelvin, 10 * u.Gauss).decompose())"
      ]
    },
    {
      "cell_type": "markdown",
      "metadata": {},
      "source": [
        "If the input is given in the wrong units then an error may occur but a better\nway is to inforce the units on input. Let's consider a simpler example here\nto calculate velocity. We use a function annotation to specify the units\n(this is a Python 3.5+ feature, see the `quantity_input <http://docs.astropy.org/en/stable/api/astropy.units.quantity_input.html#astropy.units.quantity_input>`_\ndocumentation for more details and Python 2 instructions):\n\n"
      ]
    },
    {
      "cell_type": "code",
      "execution_count": null,
      "metadata": {
        "collapsed": false
      },
      "outputs": [],
      "source": [
        "@u.quantity_input\ndef speed(length: u.m, time: u.s):\n    return length / time"
      ]
    }
  ],
  "metadata": {
    "kernelspec": {
      "display_name": "Python 3",
      "language": "python",
      "name": "python3"
    },
    "language_info": {
      "codemirror_mode": {
        "name": "ipython",
        "version": 3
      },
      "file_extension": ".py",
      "mimetype": "text/x-python",
      "name": "python",
      "nbconvert_exporter": "python",
      "pygments_lexer": "ipython3",
      "version": "3.7.3"
    }
  },
  "nbformat": 4,
  "nbformat_minor": 0
}