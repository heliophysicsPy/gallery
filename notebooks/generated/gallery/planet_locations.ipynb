{
  "cells": [
    {
      "cell_type": "code",
      "execution_count": null,
      "metadata": {
        "collapsed": false
      },
      "outputs": [],
      "source": [
        "%matplotlib inline"
      ]
    },
    {
      "cell_type": "markdown",
      "metadata": {},
      "source": [
        "\n# Planet Positions in the Solar System\n\n\nThe purpose of this demo is to demonstrate the ability of sunpy\nto get the position of planetary bodies im the solar system.\n"
      ]
    },
    {
      "cell_type": "markdown",
      "metadata": {},
      "source": [
        "First the imports\n\n"
      ]
    },
    {
      "cell_type": "code",
      "execution_count": null,
      "metadata": {
        "collapsed": false
      },
      "outputs": [],
      "source": [
        "from astropy.coordinates import SkyCoord\nfrom sunpy.coordinates import get_body_heliographic_stonyhurst\nfrom astropy.time import Time\nimport matplotlib.pyplot as plt\nimport numpy as np"
      ]
    },
    {
      "cell_type": "markdown",
      "metadata": {},
      "source": [
        "Lets grab the positions of each of the planets in stonyhurt coordinates.\n\n"
      ]
    },
    {
      "cell_type": "code",
      "execution_count": null,
      "metadata": {
        "collapsed": false
      },
      "outputs": [],
      "source": [
        "obstime = Time('2014-05-15T07:54:00.005')\nplanet_list = ['earth', 'venus', 'mars', 'mercury', 'jupiter', 'neptune', 'uranus']\nplanet_coord = [get_body_heliographic_stonyhurst(this_planet, time=obstime) for this_planet in planet_list]"
      ]
    },
    {
      "cell_type": "markdown",
      "metadata": {},
      "source": [
        "Now lets make a plot.\n\n"
      ]
    },
    {
      "cell_type": "code",
      "execution_count": null,
      "metadata": {
        "collapsed": false
      },
      "outputs": [],
      "source": [
        "fig = plt.figure()\nax1 = plt.subplot(1, 1, 1, projection='polar')\nfor this_planet, this_coord in zip(planet_list, planet_coord):\n    plt.polar(np.deg2rad(this_coord.lon), this_coord.radius, 'o', label=this_planet)\nplt.legend()\nplt.show()"
      ]
    }
  ],
  "metadata": {
    "kernelspec": {
      "display_name": "Python 3",
      "language": "python",
      "name": "python3"
    },
    "language_info": {
      "codemirror_mode": {
        "name": "ipython",
        "version": 3
      },
      "file_extension": ".py",
      "mimetype": "text/x-python",
      "name": "python",
      "nbconvert_exporter": "python",
      "pygments_lexer": "ipython3",
      "version": "3.7.3"
    }
  },
  "nbformat": 4,
  "nbformat_minor": 0
}